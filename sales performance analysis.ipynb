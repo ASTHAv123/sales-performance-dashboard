{
 "cells": [
  {
   "cell_type": "code",
   "execution_count": 11,
   "id": "4fb9ffd8-5e91-4831-bafe-b7868b9f04b3",
   "metadata": {},
   "outputs": [],
   "source": [
    "import pandas as pd\n",
    "import matplotlib.pyplot as plt\n",
    "import seaborn as sns\n",
    "from sklearn.linear_model import LinearRegression\n",
    "import numpy as np\n",
    "import os"
   ]
  },
  {
   "cell_type": "code",
   "execution_count": 12,
   "id": "e9e3e701-041f-452a-adcd-0893f7678726",
   "metadata": {},
   "outputs": [],
   "source": [
    "# Load data\n",
    "def load_data(filepath):\n",
    "    df = pd.read_csv('data source.csv')\n",
    "    df['Date'] = pd.to_datetime(df['Date'])\n",
    "    df['Total Sale'] = df['Units Sold'] * df['Unit Price']\n",
    "    df.dropna(inplace=True)\n",
    "    return df"
   ]
  },
  {
   "cell_type": "code",
   "execution_count": 13,
   "id": "ac0c74f6-13e5-4014-8632-13df786bb754",
   "metadata": {},
   "outputs": [],
   "source": [
    "# Sales by Region\n",
    "def plot_sales_by_region(df):\n",
    "    region_sales = df.groupby('Region')['Total Sale'].sum().sort_values(ascending=False)\n",
    "    plt.figure(figsize=(10,6))\n",
    "    sns.barplot(x=region_sales.index, y=region_sales.values)\n",
    "    plt.title(\"Sales by Region\")\n",
    "    plt.ylabel(\"Total Sales\")\n",
    "    plt.xticks(rotation=45)\n",
    "    plt.tight_layout()\n",
    "    plt.savefig(\"outputs/sales_by_region.png\")\n",
    "    plt.close()"
   ]
  },
  {
   "cell_type": "code",
   "execution_count": 14,
   "id": "e80b2546-9503-4750-b841-6362e225114e",
   "metadata": {},
   "outputs": [],
   "source": [
    "# Sales by Product\n",
    "def plot_sales_by_product(df):\n",
    "    product_sales = df.groupby('Product')['Total Sale'].sum().sort_values(ascending=False).head(10)\n",
    "    plt.figure(figsize=(10,6))\n",
    "    sns.barplot(x=product_sales.index, y=product_sales.values)\n",
    "    plt.title(\"Top 10 Product Sales\")\n",
    "    plt.ylabel(\"Total Sales\")\n",
    "    plt.xticks(rotation=45)\n",
    "    plt.tight_layout()\n",
    "    plt.savefig(\"outputs/sales_by_product.png\")\n",
    "    plt.close()\n"
   ]
  },
  {
   "cell_type": "code",
   "execution_count": 15,
   "id": "1135f820-3c6f-4456-8fb1-e91c0609452d",
   "metadata": {},
   "outputs": [],
   "source": [
    "# Monthly Sales Trend\n",
    "def plot_monthly_sales(df):\n",
    "    monthly_sales = df.resample('M', on='Date').sum()['Total Sale']\n",
    "    plt.figure(figsize=(12,6))\n",
    "    monthly_sales.plot(marker='o')\n",
    "    plt.title(\"Monthly Sales Trend\")\n",
    "    plt.xlabel(\"Date\")\n",
    "    plt.ylabel(\"Sales\")\n",
    "    plt.grid(True)\n",
    "    plt.tight_layout()\n",
    "    plt.savefig(\"outputs/monthly_sales_trend.png\")\n",
    "    plt.close()\n",
    "    return monthly_sales"
   ]
  },
  {
   "cell_type": "code",
   "execution_count": 16,
   "id": "538ddc91-c81f-4159-9c1d-09a47c099347",
   "metadata": {},
   "outputs": [],
   "source": [
    "# Forecast Next 6 Months\n",
    "def forecast_sales(monthly_sales):\n",
    "    monthly_sales = monthly_sales.reset_index()\n",
    "    monthly_sales['Month_Num'] = np.arange(len(monthly_sales))\n",
    "    X = monthly_sales[['Month_Num']]\n",
    "    y = monthly_sales['Total Sale']\n",
    "    model = LinearRegression()\n",
    "    model.fit(X, y)\n",
    "    future_months = np.array([[i] for i in range(len(monthly_sales), len(monthly_sales)+6)])\n",
    "    predictions = model.predict(future_months)\n",
    "    for i, sale in enumerate(predictions, 1):\n",
    "        print(f\"Forecast Month {i}: ${sale:,.2f}\")\n"
   ]
  },
  {
   "cell_type": "code",
   "execution_count": 17,
   "id": "29285aec-cc57-4eac-bbdc-57d158095bc7",
   "metadata": {},
   "outputs": [
    {
     "name": "stdout",
     "output_type": "stream",
     "text": [
      "Total Sales: $2,400.00\n"
     ]
    },
    {
     "name": "stderr",
     "output_type": "stream",
     "text": [
      "C:\\Users\\AASTHA VERMA\\AppData\\Local\\Temp\\ipykernel_18952\\3663113409.py:3: FutureWarning: 'M' is deprecated and will be removed in a future version, please use 'ME' instead.\n",
      "  monthly_sales = df.resample('M', on='Date').sum()['Total Sale']\n",
      "C:\\Users\\AASTHA VERMA\\AppData\\Local\\Programs\\Python\\Python313\\Lib\\site-packages\\pandas\\plotting\\_matplotlib\\core.py:1567: UserWarning: Attempting to set identical low and high xlims makes transformation singular; automatically expanding.\n",
      "  ax.set_xlim(left, right)\n"
     ]
    },
    {
     "name": "stdout",
     "output_type": "stream",
     "text": [
      "Forecast Month 1: $2,400.00\n",
      "Forecast Month 2: $2,400.00\n",
      "Forecast Month 3: $2,400.00\n",
      "Forecast Month 4: $2,400.00\n",
      "Forecast Month 5: $2,400.00\n",
      "Forecast Month 6: $2,400.00\n"
     ]
    },
    {
     "name": "stderr",
     "output_type": "stream",
     "text": [
      "C:\\Users\\AASTHA VERMA\\AppData\\Local\\Programs\\Python\\Python313\\Lib\\site-packages\\sklearn\\utils\\validation.py:2739: UserWarning: X does not have valid feature names, but LinearRegression was fitted with feature names\n",
      "  warnings.warn(\n"
     ]
    }
   ],
   "source": [
    "if __name__ == \"__main__\":\n",
    "    os.makedirs(\"outputs\", exist_ok=True)\n",
    "    file_path = \"data/sales_data.xlsx\"\n",
    "    df = load_data(file_path)\n",
    "    print(f\"Total Sales: ${df['Total Sale'].sum():,.2f}\")\n",
    "    plot_sales_by_region(df)\n",
    "    plot_sales_by_product(df)\n",
    "    monthly_sales = plot_monthly_sales(df)\n",
    "    forecast_sales(monthly_sales)\n"
   ]
  },
  {
   "cell_type": "code",
   "execution_count": null,
   "id": "117f9a6a-c07e-4119-9c87-b2860c4037e2",
   "metadata": {},
   "outputs": [],
   "source": []
  }
 ],
 "metadata": {
  "kernelspec": {
   "display_name": "Python 3 (ipykernel)",
   "language": "python",
   "name": "python3"
  },
  "language_info": {
   "codemirror_mode": {
    "name": "ipython",
    "version": 3
   },
   "file_extension": ".py",
   "mimetype": "text/x-python",
   "name": "python",
   "nbconvert_exporter": "python",
   "pygments_lexer": "ipython3",
   "version": "3.13.2"
  }
 },
 "nbformat": 4,
 "nbformat_minor": 5
}
